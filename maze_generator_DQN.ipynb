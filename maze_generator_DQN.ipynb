{
  "nbformat": 4,
  "nbformat_minor": 0,
  "metadata": {
    "colab": {
      "name": "maze_generator.ipynb",
      "provenance": [],
      "authorship_tag": "ABX9TyOBGx/eWLluzlsGRJiJeZMI",
      "include_colab_link": true
    },
    "kernelspec": {
      "name": "python3",
      "display_name": "Python 3"
    },
    "language_info": {
      "name": "python"
    }
  },
  "cells": [
    {
      "cell_type": "markdown",
      "metadata": {
        "id": "view-in-github",
        "colab_type": "text"
      },
      "source": [
        "<a href=\"https://colab.research.google.com/github/palakagl/ReinforcementLearning/blob/main/maze_generator_DQN.ipynb\" target=\"_parent\"><img src=\"https://colab.research.google.com/assets/colab-badge.svg\" alt=\"Open In Colab\"/></a>"
      ]
    },
    {
      "cell_type": "code",
      "execution_count": 3,
      "metadata": {
        "id": "H4V0WJnQ9CJR"
      },
      "outputs": [],
      "source": [
        "import random\n",
        "import matplotlib.pyplot as plt\n",
        "import numpy as np\n",
        "\n",
        "\n",
        "mx = 5; my = 5 # width and height of the maze\n",
        "\n",
        "maze = [[0 for x in range(mx)] for y in range(my)]\n",
        "dx = [0, 1, 0, -1]; dy = [-1, 0, 1, 0] # 4 directions to move in the maze\n",
        "color = [(0, 0, 0), (255, 255, 255)] # RGB colors of the maze\n",
        "\n",
        "# start the maze from a random cell\n",
        "cx = random.randint(0, mx - 1)\n",
        "cy = random.randint(0, my - 1)\n",
        "maze[cy][cx] = 1\n",
        "stack = [(cx, cy, 0)] # stack element: (x, y, direction)\n",
        "\n",
        "while len(stack) > 0:\n",
        "    (cx, cy, cd) = stack[-1]\n",
        "    # to prevent zigzags:\n",
        "    # if changed direction in the last move then cannot change again\n",
        "    if len(stack) > 2:\n",
        "        if cd != stack[-2][2]: dirRange = [cd]\n",
        "        else: dirRange = range(4)\n",
        "    else: dirRange = range(4)\n",
        "\n",
        "    # find a new cell to add\n",
        "    nlst = [] # list of available neighbors\n",
        "    for i in dirRange:\n",
        "        nx = cx + dx[i]\n",
        "        ny = cy + dy[i]\n",
        "        if nx >= 0 and nx < mx and ny >= 0 and ny < my:\n",
        "            if maze[ny][nx] == 0:\n",
        "                ctr = 0 # of occupied neighbors must be 1\n",
        "                for j in range(4):\n",
        "                    ex = nx + dx[j]; ey = ny + dy[j]\n",
        "                    if ex >= 0 and ex < mx and ey >= 0 and ey < my:\n",
        "                        if maze[ey][ex] == 1: ctr += 1\n",
        "                if ctr == 1: nlst.append(i)\n",
        "\n",
        "    # if 1 or more neighbors available then randomly select one and move\n",
        "    if len(nlst) > 0:\n",
        "        ir = nlst[random.randint(0, len(nlst) - 1)]\n",
        "        cx += dx[ir]; cy += dy[ir]; maze[cy][cx] = 1\n",
        "        stack.append((cx, cy, ir))\n",
        "    else: stack.pop()\n",
        "\n",
        "maze = np.array(maze)\n",
        "maze -= 1\n",
        "maze = abs(maze)\n",
        "        \n",
        "maze[0][0] = 0\n",
        "maze[mx-1][my-1] = 0\n",
        "\n",
        "np.save('maze_5_by_5', np.array(maze))"
      ]
    }
  ]
}