{
  "nbformat": 4,
  "nbformat_minor": 0,
  "metadata": {
    "colab": {
      "name": "Maze_DQN.ipynb",
      "provenance": [],
      "machine_shape": "hm",
      "authorship_tag": "ABX9TyPl+V0Ti1QjFPGNuSUwEqR7",
      "include_colab_link": true
    },
    "kernelspec": {
      "name": "python3",
      "display_name": "Python 3"
    },
    "language_info": {
      "name": "python"
    },
    "accelerator": "GPU"
  },
  "cells": [
    {
      "cell_type": "markdown",
      "metadata": {
        "id": "view-in-github",
        "colab_type": "text"
      },
      "source": [
        "<a href=\"https://colab.research.google.com/github/palakagl/ReinforcementLearning/blob/main/Maze_DQN.ipynb\" target=\"_parent\"><img src=\"https://colab.research.google.com/assets/colab-badge.svg\" alt=\"Open In Colab\"/></a>"
      ]
    },
    {
      "cell_type": "code",
      "source": [
        "import numpy as np\n",
        "import scipy.special as sp\n",
        "\n",
        "from IPython.display import display, clear_output\n",
        "import matplotlib.pyplot as plt\n",
        "import copy\n",
        "import time\n",
        "import random\n",
        "\n",
        "import torch\n",
        "import torch.nn as nn\n",
        "import torch.optim as optim\n",
        "import collections"
      ],
      "metadata": {
        "id": "sYv-AdybPzNF"
      },
      "execution_count": 2,
      "outputs": []
    },
    {
      "cell_type": "code",
      "source": [
        "Transition = collections.namedtuple('Experience',\n",
        "                                    field_names=['state', 'action',\n",
        "                                                 'next_state', 'reward',\n",
        "                                                 'is_game_on'])\n",
        "\n",
        "class ExperienceReplay:\n",
        "    def __init__(self, capacity):\n",
        "        self.capacity = capacity\n",
        "        self.memory = collections.deque(maxlen=capacity)\n",
        "\n",
        "    def __len__(self):\n",
        "        return len(self.memory)\n",
        "\n",
        "    def push(self, transition):\n",
        "        self.memory.append(transition)\n",
        "\n",
        "    def sample(self, batch_size, device = 'cuda'):\n",
        "        indices = np.random.choice(len(self.memory), batch_size, replace = False)\n",
        "        \n",
        "        states, actions, next_states, rewards, isgameon = zip(*[self.memory[idx] \n",
        "                                                                for idx in indices])\n",
        "        \n",
        "        return torch.Tensor(states).type(torch.float).to(device), \\\n",
        "               torch.Tensor(actions).type(torch.long).to(device), \\\n",
        "               torch.Tensor(next_states).to(device), \\\n",
        "               torch.Tensor(rewards).to(device), torch.tensor(isgameon).to(device)"
      ],
      "metadata": {
        "id": "ujxg4tBnPzxg"
      },
      "execution_count": 3,
      "outputs": []
    },
    {
      "cell_type": "code",
      "source": [
        "class fc_nn(nn.Module):\n",
        "    def __init__(self, Ni, Nh1, Nh2, No = 4):\n",
        "        super().__init__()\n",
        "        \n",
        "        self.fc1 = nn.Linear(Ni, Nh1)\n",
        "        self.fc2 = nn.Linear(Nh1, Nh2)\n",
        "        self.fc3 = nn.Linear(Nh2, No)\n",
        "        \n",
        "        self.act = nn.ReLU()\n",
        "        \n",
        "    def forward(self, x, classification = False, additional_out=False):\n",
        "        x = self.act(self.fc1(x))\n",
        "        x = self.act(self.fc2(x))\n",
        "        out = self.fc3(x)\n",
        "        \n",
        "        return out"
      ],
      "metadata": {
        "id": "cBM3zddfP7NS"
      },
      "execution_count": 4,
      "outputs": []
    },
    {
      "cell_type": "code",
      "source": [
        "class conv_nn(nn.Module):\n",
        "    \n",
        "    channels = [16, 32, 64]\n",
        "    kernels = [3, 3, 3]\n",
        "    strides = [1, 1, 1]\n",
        "    in_channels = 1\n",
        "    \n",
        "    def __init__(self, rows, cols, n_act):\n",
        "        super().__init__()\n",
        "        self.rows = rows\n",
        "        self.cols = cols\n",
        "\n",
        "        self.conv = nn.Sequential(nn.Conv2d(in_channels = self.in_channels,\n",
        "                                            out_channels = self.channels[0],\n",
        "                                            kernel_size = self.kernels[0],\n",
        "                                            stride = self.strides[0]),\n",
        "                                  nn.ReLU(),\n",
        "                                  nn.Conv2d(in_channels = self.channels[0],\n",
        "                                            out_channels = self.channels[1],\n",
        "                                            kernel_size = self.kernels[1],\n",
        "                                            stride = self.strides[1]),\n",
        "                                  nn.ReLU()\n",
        "                                 )\n",
        "        \n",
        "        size_out_conv = self.get_conv_size(rows, cols)\n",
        "        \n",
        "        self.linear = nn.Sequential(nn.Linear(size_out_conv, rows*cols*2),\n",
        "                                    nn.ReLU(),\n",
        "                                    nn.Linear(rows*cols*2, int(rows*cols/2)),\n",
        "                                    nn.ReLU(),\n",
        "                                    nn.Linear(int(rows*cols/2), n_act),\n",
        "                                   )\n",
        "\n",
        "    def forward(self, x):\n",
        "        x = x.view(len(x), self.in_channels, self.rows, self.cols)\n",
        "        out_conv = self.conv(x).view(len(x),-1)\n",
        "        out_lin = self.linear(out_conv)\n",
        "        return out_lin\n",
        "    \n",
        "    def get_conv_size(self, x, y):\n",
        "        out_conv = self.conv(torch.zeros(1,self.in_channels, x, y))\n",
        "        return int(np.prod(out_conv.size()))\n",
        "def Qloss(batch, net, gamma=0.99, device=\"cuda\"):\n",
        "    states, actions, next_states, rewards, _ = batch\n",
        "    lbatch = len(states)\n",
        "    state_action_values = net(states.view(lbatch,-1))\n",
        "    state_action_values = state_action_values.gather(1, actions.unsqueeze(-1))\n",
        "    state_action_values = state_action_values.squeeze(-1)\n",
        "    \n",
        "    next_state_values = net(next_states.view(lbatch, -1))\n",
        "    next_state_values = next_state_values.max(1)[0]\n",
        "    \n",
        "    next_state_values = next_state_values.detach()\n",
        "    expected_state_action_values = next_state_values * gamma + rewards\n",
        "    \n",
        "    return nn.MSELoss()(state_action_values, expected_state_action_values)"
      ],
      "metadata": {
        "id": "XX1Gvbc0QDPm"
      },
      "execution_count": 5,
      "outputs": []
    },
    {
      "cell_type": "code",
      "source": [
        "import environment\n",
        "from environment import MazeEnvironment\n",
        "\n",
        "maze = np.load('maze.npy')\n",
        "\n",
        "initial_position = [0,0]\n",
        "goal = [len(maze)-1, len(maze)-1]\n",
        "\n",
        "maze_env = MazeEnvironment(maze, initial_position, goal)"
      ],
      "metadata": {
        "id": "XtChis05QHIW"
      },
      "execution_count": 10,
      "outputs": []
    },
    {
      "cell_type": "code",
      "source": [
        "maze_env.draw('maze_20.pdf')"
      ],
      "metadata": {
        "colab": {
          "base_uri": "https://localhost:8080/",
          "height": 252
        },
        "id": "mDL_s5RdQLXJ",
        "outputId": "66e4bb15-89ea-4d98-f5ba-534b6e0eff4a"
      },
      "execution_count": 11,
      "outputs": [
        {
          "output_type": "display_data",
          "data": {
            "text/plain": [
              "<Figure size 432x288 with 1 Axes>"
            ],
            "image/png": "[encoded data removed]"
          },
          "metadata": {}
        }
      ]
    },
    {
      "cell_type": "code",
      "source": [
        "buffer_capacity = 10000\n",
        "buffer_start_size = 1000\n",
        "memory_buffer = ExperienceReplay(buffer_capacity)"
      ],
      "metadata": {
        "id": "VgqQ4GdIR6k-"
      },
      "execution_count": 12,
      "outputs": []
    },
    {
      "cell_type": "code",
      "source": [
        "import agent\n",
        "from agent import Agent\n",
        "\n",
        "agent = Agent(maze = maze_env,\n",
        "              memory_buffer = memory_buffer,\n",
        "              use_softmax = True\n",
        "             )"
      ],
      "metadata": {
        "id": "JnwTOizBSFCH"
      },
      "execution_count": 14,
      "outputs": []
    },
    {
      "cell_type": "code",
      "source": [
        "net = fc_nn(maze.size, maze.size, maze.size, 4)\n",
        "optimizer = optim.Adam(net.parameters(), lr=1e-4)"
      ],
      "metadata": {
        "id": "0oUxBkcoSHNu"
      },
      "execution_count": 15,
      "outputs": []
    },
    {
      "cell_type": "code",
      "source": [
        "device = 'cuda'\n",
        "batch_size = 24\n",
        "gamma = 0.9\n",
        "\n",
        "net.to(device)"
      ],
      "metadata": {
        "colab": {
          "base_uri": "https://localhost:8080/"
        },
        "id": "oW7eDk5XSJV7",
        "outputId": "76d9f13a-8fe4-49cd-a810-6c2a9b75c2f2"
      },
      "execution_count": 16,
      "outputs": [
        {
          "output_type": "execute_result",
          "data": {
            "text/plain": [
              "fc_nn(\n",
              "  (fc1): Linear(in_features=400, out_features=400, bias=True)\n",
              "  (fc2): Linear(in_features=400, out_features=400, bias=True)\n",
              "  (fc3): Linear(in_features=400, out_features=4, bias=True)\n",
              "  (act): ReLU()\n",
              ")"
            ]
          },
          "metadata": {},
          "execution_count": 16
        }
      ]
    },
    {
      "cell_type": "code",
      "source": [
        "num_epochs = 20000\n",
        "\n",
        "cutoff = 3000\n",
        "epsilon = np.exp(-np.arange(num_epochs)/(cutoff))\n",
        "epsilon[epsilon > epsilon[100*int(num_epochs/cutoff)]] = epsilon[100*int(num_epochs/cutoff)]\n",
        "plt.plot(epsilon, color = 'orangered', ls = '--')\n",
        "plt.xlabel('Epochs')\n",
        "plt.ylabel('Epsilon')\n",
        "plt.savefig('epsilon_profile.pdf', dpi = 300, bbox_inches = 'tight')\n",
        "plt.show()\n",
        "\n",
        "mp = []\n",
        "mpm = []\n",
        "reg = 200\n",
        "for e in epsilon:\n",
        "    a = agent.env.reset_policy(e)\n",
        "    mp.append(np.min(a))\n",
        "    mpm.append(np.max(a))\n",
        "\n",
        "plt.plot(epsilon/1.3, color = 'orangered', ls = '--', alpha = 0.5,\n",
        "         label= 'Epsilon profile (arbitrary units)')\n",
        "\n",
        "plt.plot(np.array(mpm)-np.array(mp), label = 'Probability difference', color = 'cornflowerblue')\n",
        "plt.xlabel('Epochs')\n",
        "plt.ylabel(r'max $p^r$ - min $p^r$')\n",
        "plt.legend()\n",
        "plt.savefig('reset_policy.pdf', dpi = 300, bbox_inches = 'tight')\n",
        "plt.show()"
      ],
      "metadata": {
        "colab": {
          "base_uri": "https://localhost:8080/",
          "height": 541
        },
        "id": "6P8xxyb8TR3S",
        "outputId": "ddc39ab1-de2d-4b82-a60c-cd85c0fb7cfd"
      },
      "execution_count": 17,
      "outputs": [
        {
          "output_type": "display_data",
          "data": {
            "text/plain": [
              "<Figure size 432x288 with 1 Axes>"
            ],
            "image/png": "[encoded data removed]"
          },
          "metadata": {
            "needs_background": "light"
          }
        },
        {
          "output_type": "display_data",
          "data": {
            "text/plain": [
              "<Figure size 432x288 with 1 Axes>"
            ],
            "image/png": "[encoded data removed]"
          },
          "metadata": {
            "needs_background": "light"
          }
        }
      ]
    },
    {
      "cell_type": "code",
      "source": [
        "loss_log = []\n",
        "best_loss = 1e5\n",
        "\n",
        "running_loss = 0\n",
        "\n",
        "for epoch in range(num_epochs):\n",
        "    loss = 0\n",
        "    counter = 0\n",
        "    eps = epsilon[epoch]\n",
        "    \n",
        "    agent.isgameon = True\n",
        "    _ = agent.env.reset(eps)\n",
        "    \n",
        "    while agent.isgameon:\n",
        "        agent.make_a_move(net, eps)\n",
        "        counter += 1\n",
        "        \n",
        "        if len(agent.buffer) < buffer_start_size:\n",
        "            continue\n",
        "            \n",
        "        optimizer.zero_grad()\n",
        "        batch = agent.buffer.sample(batch_size, device = device)\n",
        "        loss_t = Qloss(batch, net, gamma = gamma, device = device)\n",
        "        loss_t.backward()\n",
        "        optimizer.step()\n",
        "        \n",
        "        loss += loss_t.item()\n",
        "    \n",
        "    if (agent.env.current_position == agent.env.goal).all():\n",
        "        result = 'won'\n",
        "    else:\n",
        "        result = 'lost'\n",
        "    \n",
        "    if epoch%1000 == 0:\n",
        "        agent.plot_policy_map(net, 'sol_epoch_'+str(epoch)+'.pdf', [0.35,-0.3])\n",
        "    \n",
        "    loss_log.append(loss)\n",
        "    \n",
        "    if (epoch > 2000):\n",
        "        running_loss = np.mean(loss_log[-50:])\n",
        "        if running_loss < best_loss:\n",
        "            best_loss = running_loss\n",
        "            torch.save(net.state_dict(), \"best.torch\")\n",
        "            estop = epoch\n",
        "    \n",
        "    print('Epoch', epoch, '(number of moves ' + str(counter) + ')')\n",
        "    print('Game', result)\n",
        "    print('[' + '#'*(100-int(100*(1 - epoch/num_epochs))) +\n",
        "          ' '*int(100*(1 - epoch/num_epochs)) + ']')\n",
        "    print('\\t Average loss: ' + f'{loss:.5f}')\n",
        "    if (epoch > 2000):\n",
        "        print('\\t Best average loss of the last 50 epochs: ' + f'{best_loss:.5f}' + ', achieved at epoch', estop)\n",
        "    clear_output(wait = True)"
      ],
      "metadata": {
        "colab": {
          "base_uri": "https://localhost:8080/",
          "height": 104
        },
        "id": "kYFJa9THTgea",
        "outputId": "81e1d518-c8b6-40ec-da8b-5f10416c0a36"
      },
      "execution_count": 18,
      "outputs": [
        {
          "output_type": "stream",
          "name": "stdout",
          "text": [
            "Epoch 19999 (number of moves 2001)\n",
            "Game lost\n",
            "[####################################################################################################]\n",
            "\t Average loss: 0.06170\n",
            "\t Best average loss of the last 50 epochs: 0.00137, achieved at epoch 19992\n"
          ]
        }
      ]
    },
    {
      "cell_type": "code",
      "source": [
        "torch.save(net.state_dict(), \"net.torch\")"
      ],
      "metadata": {
        "id": "rd601wetTtFw"
      },
      "execution_count": 19,
      "outputs": []
    },
    {
      "cell_type": "code",
      "source": [
        "plt.plot(epsilon*90, alpha = 0.6, ls = '--', label = 'Epsilon profile (arbitrary unit)', color = 'orangered')\n",
        "plt.plot((np.array(mpm)-np.array(mp))*120, alpha = 0.6, ls = '--',\n",
        "         label = 'Probability difference (arbitrary unit)', color = 'dimgray')\n",
        "plt.plot(loss_log, label = 'Loss', color = 'cornflowerblue')\n",
        "plt.xlabel('Epoch')\n",
        "plt.ylabel('MSE')\n",
        "plt.legend()\n",
        "plt.savefig('loss.pdf', dpi = 300, bbox_inches='tight')\n",
        "plt.show()"
      ],
      "metadata": {
        "colab": {
          "base_uri": "https://localhost:8080/",
          "height": 279
        },
        "id": "Ubd2fLG3TtrP",
        "outputId": "fb899ebd-c9b5-4c8a-93cd-88868ef0a515"
      },
      "execution_count": 20,
      "outputs": [
        {
          "output_type": "display_data",
          "data": {
            "text/plain": [
              "<Figure size 432x288 with 1 Axes>"
            ],
            "image/png": "[encoded data removed]"
          },
          "metadata": {
            "needs_background": "light"
          }
        }
      ]
    },
    {
      "cell_type": "code",
      "source": [
        "net.eval()\n",
        "agent.isgameon = True\n",
        "agent.use_softmax = False\n",
        "_ = agent.env.reset(0)\n",
        "while agent.isgameon:\n",
        "    agent.make_a_move(net, 0)\n",
        "    agent.env.draw('')\n",
        "    clear_output(wait = True)"
      ],
      "metadata": {
        "colab": {
          "base_uri": "https://localhost:8080/",
          "height": 252
        },
        "id": "U3W_USQCqzCG",
        "outputId": "2d6303b2-0554-488f-b671-3fc0dd87515c"
      },
      "execution_count": 21,
      "outputs": [
        {
          "output_type": "display_data",
          "data": {
            "text/plain": [
              "<Figure size 432x288 with 1 Axes>"
            ],
            "image/png": "[encoded data removed]"
          },
          "metadata": {}
        }
      ]
    },
    {
      "cell_type": "code",
      "source": [
        "agent.plot_policy_map(net, 'solution.pdf', [0.35,-0.3])"
      ],
      "metadata": {
        "colab": {
          "base_uri": "https://localhost:8080/",
          "height": 252
        },
        "id": "z8bCg79Gq2jr",
        "outputId": "90945d80-193b-4efb-cad5-8e23008b3345"
      },
      "execution_count": 22,
      "outputs": [
        {
          "output_type": "display_data",
          "data": {
            "text/plain": [
              "<Figure size 432x288 with 1 Axes>"
            ],
            "image/png": "[encoded data removed]"
          },
          "metadata": {}
        }
      ]
    },
    {
      "cell_type": "code",
      "source": [
        "best_net = copy.deepcopy(net)\n",
        "best_net.load_state_dict(torch.load('best.torch'))"
      ],
      "metadata": {
        "colab": {
          "base_uri": "https://localhost:8080/"
        },
        "id": "HfQwhXAuq5OQ",
        "outputId": "dc8a3df7-006e-4cf9-a263-38a1503f6718"
      },
      "execution_count": 23,
      "outputs": [
        {
          "output_type": "execute_result",
          "data": {
            "text/plain": [
              "<All keys matched successfully>"
            ]
          },
          "metadata": {},
          "execution_count": 23
        }
      ]
    },
    {
      "cell_type": "code",
      "source": [
        "agent.plot_policy_map(best_net, 'solution_best.pdf', [0.35,-0.3])"
      ],
      "metadata": {
        "colab": {
          "base_uri": "https://localhost:8080/",
          "height": 252
        },
        "id": "Ab90ltgXq8Jg",
        "outputId": "beafdc97-e8f3-4692-845f-509e33913655"
      },
      "execution_count": 24,
      "outputs": [
        {
          "output_type": "display_data",
          "data": {
            "text/plain": [
              "<Figure size 432x288 with 1 Axes>"
            ],
            "image/png": "[encoded data removed]"
          },
          "metadata": {}
        }
      ]
    }
  ]
}