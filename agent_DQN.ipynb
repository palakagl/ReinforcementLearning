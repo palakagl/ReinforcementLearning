{
  "nbformat": 4,
  "nbformat_minor": 0,
  "metadata": {
    "colab": {
      "name": "agent.ipynb",
      "provenance": [],
      "authorship_tag": "ABX9TyPpb8rxZ7dZ8wc/tVcRZaeW",
      "include_colab_link": true
    },
    "kernelspec": {
      "name": "python3",
      "display_name": "Python 3"
    },
    "language_info": {
      "name": "python"
    }
  },
  "cells": [
    {
      "cell_type": "markdown",
      "metadata": {
        "id": "view-in-github",
        "colab_type": "text"
      },
      "source": [
        "<a href=\"https://colab.research.google.com/github/palakagl/ReinforcementLearning/blob/main/agent_DQN.ipynb\" target=\"_parent\"><img src=\"https://colab.research.google.com/assets/colab-badge.svg\" alt=\"Open In Colab\"/></a>"
      ]
    },
    {
      "cell_type": "code",
      "execution_count": null,
      "metadata": {
        "id": "ebuNL2CBSTu4"
      },
      "outputs": [],
      "source": [
        "import numpy as np\n",
        "import scipy.special as sp\n",
        "import matplotlib.pyplot as plt\n",
        "import copy\n",
        "import torch\n",
        "import torch.nn as nn\n",
        "import torch.optim as optim\n",
        "import collections\n",
        "\n",
        "Transition = collections.namedtuple('Experience',\n",
        "                                    field_names=['state', 'action',\n",
        "                                                 'next_state', 'reward',\n",
        "                                                 'is_game_on'])\n",
        "\n",
        "\n",
        "class Agent:\n",
        "    def __init__(self, maze, memory_buffer, use_softmax = True):\n",
        "        self.env = maze\n",
        "        self.buffer = memory_buffer # this is actually a reference\n",
        "        self.num_act = 4\n",
        "        self.use_softmax = use_softmax\n",
        "        self.total_reward = 0\n",
        "        self.min_reward = -self.env.maze.size\n",
        "        self.isgameon = True\n",
        "\n",
        "        \n",
        "    def make_a_move(self, net, epsilon, device = 'cuda'):\n",
        "        action = self.select_action(net, epsilon, device)\n",
        "        current_state = self.env.state()\n",
        "        next_state, reward, self.isgameon = self.env.state_update(action)\n",
        "        self.total_reward += reward\n",
        "        \n",
        "        if self.total_reward < self.min_reward:\n",
        "            self.isgameon = False\n",
        "        if not self.isgameon:\n",
        "            self.total_reward = 0\n",
        "        \n",
        "        transition = Transition(current_state, action,\n",
        "                                next_state, reward,\n",
        "                                self.isgameon)\n",
        "        \n",
        "        self.buffer.push(transition)\n",
        "            \n",
        "        \n",
        "    def select_action(self, net, epsilon, device = 'cuda'):\n",
        "        state = torch.Tensor(self.env.state()).to(device).view(1,-1)\n",
        "        qvalues = net(state).cpu().detach().numpy().squeeze()\n",
        "\n",
        "        # softmax sampling of the qvalues\n",
        "        if self.use_softmax:\n",
        "            p = sp.softmax(qvalues/epsilon).squeeze()\n",
        "            p /= np.sum(p)\n",
        "            action = np.random.choice(self.num_act, p = p)\n",
        "            \n",
        "        # else choose the best action with probability 1-epsilon\n",
        "        # and with probability epsilon choose at random\n",
        "        else:\n",
        "            if np.random.random() < epsilon:\n",
        "                action = np.random.randint(self.num_act, size=1)[0]\n",
        "            else:                \n",
        "                action = np.argmax(qvalues, axis=0)\n",
        "                action = int(action)\n",
        "        \n",
        "        return action\n",
        "    \n",
        "    \n",
        "    def plot_policy_map(self, net, filename, offset):\n",
        "        net.eval()\n",
        "        with torch.no_grad():\n",
        "            fig, ax = plt.subplots()\n",
        "            ax.imshow(self.env.maze, 'Greys')\n",
        "\n",
        "            for free_cell in self.env.allowed_states:\n",
        "                self.env.current_position = np.asarray(free_cell)\n",
        "                qvalues = net(torch.Tensor(self.env.state()).view(1,-1).to('cuda'))\n",
        "                action = int(torch.argmax(qvalues).detach().cpu().numpy())\n",
        "                policy = self.env.directions[action]\n",
        "\n",
        "                ax.text(free_cell[1]-offset[0], free_cell[0]-offset[1], policy)\n",
        "            ax = plt.gca();\n",
        "\n",
        "            plt.xticks([], [])\n",
        "            plt.yticks([], [])\n",
        "\n",
        "            ax.plot(self.env.goal[1], self.env.goal[0],\n",
        "                    'bs', markersize = 4)\n",
        "            plt.savefig(filename, dpi = 300, bbox_inches = 'tight')\n",
        "            plt.show()"
      ]
    }
  ]
}