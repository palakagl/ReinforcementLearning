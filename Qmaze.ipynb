{
  "nbformat": 4,
  "nbformat_minor": 0,
  "metadata": {
    "colab": {
      "name": "Qmaze.ipynb",
      "provenance": [],
      "machine_shape": "hm",
      "authorship_tag": "ABX9TyMfzVybI32sUxBJfCWHrEWi",
      "include_colab_link": true
    },
    "kernelspec": {
      "name": "python3",
      "display_name": "Python 3"
    },
    "language_info": {
      "name": "python"
    },
    "accelerator": "GPU"
  },
  "cells": [
    {
      "cell_type": "markdown",
      "metadata": {
        "id": "view-in-github",
        "colab_type": "text"
      },
      "source": [
        "<a href=\"https://colab.research.google.com/github/palakagl/ReinforcementLearning/blob/main/Qmaze.ipynb\" target=\"_parent\"><img src=\"https://colab.research.google.com/assets/colab-badge.svg\" alt=\"Open In Colab\"/></a>"
      ]
    },
    {
      "cell_type": "code",
      "execution_count": 1,
      "metadata": {
        "id": "-w0sY4fMDJj9"
      },
      "outputs": [],
      "source": [
        "from __future__ import print_function\n",
        "import os, sys, time, datetime, json, random\n",
        "import numpy as np\n",
        "from keras.models import Sequential\n",
        "from keras.layers.core import Dense, Activation\n",
        "from tensorflow.keras.optimizers  import SGD , Adam, RMSprop\n",
        "from keras.layers.advanced_activations import PReLU\n",
        "import matplotlib.pyplot as plt\n",
        "%matplotlib inline"
      ]
    },
    {
      "cell_type": "code",
      "source": [
        "maze = np.array([\n",
        "    [ 1.,  0.,  1.,  1.,  1.,  1.,  1.,  1.,  1.,  1.],\n",
        "    [ 1.,  1.,  1.,  1.,  1.,  0.,  1.,  1.,  1.,  1.],\n",
        "    [ 1.,  1.,  1.,  1.,  1.,  0.,  1.,  1.,  1.,  1.],\n",
        "    [ 0.,  0.,  1.,  0.,  0.,  1.,  0.,  1.,  1.,  1.],\n",
        "    [ 1.,  1.,  0.,  1.,  0.,  1.,  0.,  0.,  0.,  1.],\n",
        "    [ 1.,  1.,  0.,  1.,  0.,  1.,  1.,  1.,  1.,  1.],\n",
        "    [ 1.,  1.,  1.,  1.,  1.,  1.,  1.,  1.,  1.,  1.],\n",
        "    [ 1.,  1.,  1.,  1.,  1.,  1.,  0.,  0.,  0.,  0.],\n",
        "    [ 1.,  0.,  0.,  0.,  0.,  0.,  1.,  1.,  1.,  1.],\n",
        "    [ 1.,  1.,  1.,  1.,  1.,  1.,  1.,  0.,  1.,  1.]\n",
        "])"
      ],
      "metadata": {
        "id": "jWSzf0A0Dih5"
      },
      "execution_count": 2,
      "outputs": []
    },
    {
      "cell_type": "code",
      "source": [
        "visited_mark = 0.8  # Cells visited by the bot will be painted by gray 0.8\n",
        "bot_mark = 0.5      # The current bot cell will be painteg by gray 0.5\n",
        "LEFT = 0\n",
        "UP = 1\n",
        "RIGHT = 2\n",
        "DOWN = 3\n",
        "\n",
        "# Actions dictionary\n",
        "actions_dict = {\n",
        "    LEFT: 'left',\n",
        "    UP: 'up',\n",
        "    RIGHT: 'right',\n",
        "    DOWN: 'down',\n",
        "}\n",
        "\n",
        "num_actions = len(actions_dict)\n",
        "\n",
        "# Exploration factor\n",
        "epsilon = 0.1"
      ],
      "metadata": {
        "id": "vRY4ELKpEWG-"
      },
      "execution_count": 3,
      "outputs": []
    },
    {
      "cell_type": "code",
      "source": [
        "# maze is a 2d Numpy array of floats between 0.0 to 1.0\n",
        "# 1.0 corresponds to a free cell, and 0.0 an occupied cell\n",
        "# bot = (row, col) initial bot position (defaults to (0,0))\n",
        "\n",
        "class Qmaze(object):\n",
        "    def __init__(self, maze, bot=(0,0)):\n",
        "        self._maze = np.array(maze)\n",
        "        nrows, ncols = self._maze.shape\n",
        "        self.target = (nrows-1, ncols-1)   # target cell where the \"cheese\" is\n",
        "        self.free_cells = [(r,c) for r in range(nrows) for c in range(ncols) if self._maze[r,c] == 1.0]\n",
        "        self.free_cells.remove(self.target)\n",
        "        if self._maze[self.target] == 0.0:\n",
        "            raise Exception(\"Invalid maze: target cell cannot be blocked!\")\n",
        "        if not bot in self.free_cells:\n",
        "            raise Exception(\"Invalid Bot Location: must sit on a free cell\")\n",
        "        self.reset(bot)\n",
        "\n",
        "    def reset(self, bot):\n",
        "        self.bot = bot\n",
        "        self.maze = np.copy(self._maze)\n",
        "        nrows, ncols = self.maze.shape\n",
        "        row, col = bot\n",
        "        self.maze[row, col] = bot_mark\n",
        "        self.state = (row, col, 'start')\n",
        "        self.min_reward = -0.5 * self.maze.size\n",
        "        self.total_reward = 0\n",
        "        self.visited = set()\n",
        "\n",
        "    def update_state(self, action):\n",
        "        nrows, ncols = self.maze.shape\n",
        "        nrow, ncol, nmode = bot_row, bot_col, mode = self.state\n",
        "\n",
        "        if self.maze[bot_row, bot_col] > 0.0:\n",
        "            self.visited.add((bot_row, bot_col))  # mark visited cell\n",
        "\n",
        "        valid_actions = self.valid_actions()\n",
        "                \n",
        "        if not valid_actions:\n",
        "            nmode = 'blocked'\n",
        "        elif action in valid_actions:\n",
        "            nmode = 'valid'\n",
        "            if action == LEFT:\n",
        "                ncol -= 1\n",
        "            elif action == UP:\n",
        "                nrow -= 1\n",
        "            if action == RIGHT:\n",
        "                ncol += 1\n",
        "            elif action == DOWN:\n",
        "                nrow += 1\n",
        "        else:                  # invalid action, no change in bot position\n",
        "            mode = 'invalid'\n",
        "\n",
        "        # new state\n",
        "        self.state = (nrow, ncol, nmode)\n",
        "\n",
        "    def get_reward(self):\n",
        "        bot_row, bot_col, mode = self.state\n",
        "        nrows, ncols = self.maze.shape\n",
        "        if bot_row == nrows-1 and bot_col == ncols-1:\n",
        "            return 1.0\n",
        "        if mode == 'blocked':\n",
        "            return self.min_reward - 1\n",
        "        if (bot_row, bot_col) in self.visited:\n",
        "            return -0.25\n",
        "        if mode == 'invalid':\n",
        "            return -0.75\n",
        "        if mode == 'valid':\n",
        "            return -0.04\n",
        "\n",
        "    def act(self, action):\n",
        "        self.update_state(action)\n",
        "        reward = self.get_reward()\n",
        "        self.total_reward += reward\n",
        "        status = self.game_status()\n",
        "        envstate = self.observe()\n",
        "        return envstate, reward, status\n",
        "\n",
        "    def observe(self):\n",
        "        canvas = self.draw_env()\n",
        "        envstate = canvas.reshape((1, -1))\n",
        "        return envstate\n",
        "\n",
        "    def draw_env(self):\n",
        "        canvas = np.copy(self.maze)\n",
        "        nrows, ncols = self.maze.shape\n",
        "        # clear all visual marks\n",
        "        for r in range(nrows):\n",
        "            for c in range(ncols):\n",
        "                if canvas[r,c] > 0.0:\n",
        "                    canvas[r,c] = 1.0\n",
        "        # draw the bot\n",
        "        row, col, valid = self.state\n",
        "        canvas[row, col] = bot_mark\n",
        "        return canvas\n",
        "\n",
        "    def game_status(self):\n",
        "        if self.total_reward < self.min_reward:\n",
        "            return 'lose'\n",
        "        bot_row, bot_col, mode = self.state\n",
        "        nrows, ncols = self.maze.shape\n",
        "        if bot_row == nrows-1 and bot_col == ncols-1:\n",
        "            return 'win'\n",
        "\n",
        "        return 'not_over'\n",
        "\n",
        "    def valid_actions(self, cell=None):\n",
        "        if cell is None:\n",
        "            row, col, mode = self.state\n",
        "        else:\n",
        "            row, col = cell\n",
        "        actions = [0, 1, 2, 3]\n",
        "        nrows, ncols = self.maze.shape\n",
        "        if row == 0:\n",
        "            actions.remove(1)\n",
        "        elif row == nrows-1:\n",
        "            actions.remove(3)\n",
        "\n",
        "        if col == 0:\n",
        "            actions.remove(0)\n",
        "        elif col == ncols-1:\n",
        "            actions.remove(2)\n",
        "\n",
        "        if row>0 and self.maze[row-1,col] == 0.0:\n",
        "            actions.remove(1)\n",
        "        if row<nrows-1 and self.maze[row+1,col] == 0.0:\n",
        "            actions.remove(3)\n",
        "\n",
        "        if col>0 and self.maze[row,col-1] == 0.0:\n",
        "            actions.remove(0)\n",
        "        if col<ncols-1 and self.maze[row,col+1] == 0.0:\n",
        "            actions.remove(2)\n",
        "\n",
        "        return actions\n"
      ],
      "metadata": {
        "id": "0NaexfuzExk_"
      },
      "execution_count": 4,
      "outputs": []
    },
    {
      "cell_type": "code",
      "source": [
        "def show(qmaze):\n",
        "    plt.grid('on')\n",
        "    nrows, ncols = qmaze.maze.shape\n",
        "    ax = plt.gca()\n",
        "    ax.set_xticks(np.arange(0.5, nrows, 1))\n",
        "    ax.set_yticks(np.arange(0.5, ncols, 1))\n",
        "    ax.set_xticklabels([])\n",
        "    ax.set_yticklabels([])\n",
        "    canvas = np.copy(qmaze.maze)\n",
        "    for row,col in qmaze.visited:\n",
        "        canvas[row,col] = 0.6\n",
        "    bot_row, bot_col, _ = qmaze.state\n",
        "    canvas[bot_row, bot_col] = 0.3   # bot cell\n",
        "    canvas[nrows-1, ncols-1] = 0.9 # cheese cell\n",
        "    img = plt.imshow(canvas, interpolation='none', cmap='gray')\n",
        "    return img"
      ],
      "metadata": {
        "id": "x4CLOx0kE52z"
      },
      "execution_count": 5,
      "outputs": []
    },
    {
      "cell_type": "code",
      "source": [
        "maze = [\n",
        "    [ 1.,  0.,  1.,  1.,  1.,  1.,  1.,  1.],\n",
        "    [ 1.,  0.,  1.,  1.,  1.,  0.,  1.,  1.],\n",
        "    [ 1.,  1.,  1.,  1.,  0.,  1.,  0.,  1.],\n",
        "    [ 1.,  1.,  1.,  0.,  1.,  1.,  1.,  1.],\n",
        "    [ 1.,  1.,  0.,  1.,  1.,  1.,  1.,  1.],\n",
        "    [ 1.,  1.,  1.,  0.,  1.,  0.,  0.,  0.],\n",
        "    [ 1.,  1.,  1.,  0.,  1.,  1.,  1.,  1.],\n",
        "    [ 1.,  1.,  1.,  1.,  0.,  1.,  1.,  1.]\n",
        "]"
      ],
      "metadata": {
        "id": "S_ki0TPqFCel"
      },
      "execution_count": 6,
      "outputs": []
    },
    {
      "cell_type": "code",
      "source": [
        "qmaze = Qmaze(maze)\n",
        "canvas, reward, game_over = qmaze.act(DOWN)\n",
        "print(\"reward=\", reward)\n",
        "show(qmaze)"
      ],
      "metadata": {
        "colab": {
          "base_uri": "https://localhost:8080/",
          "height": 287
        },
        "id": "EoTMlSYvFDxu",
        "outputId": "3f8e2a11-474a-49ea-a932-1eb0d445603e"
      },
      "execution_count": 7,
      "outputs": [
        {
          "output_type": "stream",
          "name": "stdout",
          "text": [
            "reward= -0.04\n"
          ]
        },
        {
          "output_type": "execute_result",
          "data": {
            "text/plain": [
              "<matplotlib.image.AxesImage at 0x7f5ed28e7090>"
            ]
          },
          "metadata": {},
          "execution_count": 7
        },
        {
          "output_type": "display_data",
          "data": {
            "text/plain": [
              "<Figure size 432x288 with 1 Axes>"
            ],
            "image/png": "[encoded data removed]"
          },
          "metadata": {
            "needs_background": "light"
          }
        }
      ]
    },
    {
      "cell_type": "code",
      "source": [
        "qmaze.act(DOWN)  # move down\n",
        "qmaze.act(RIGHT)  # move right\n",
        "qmaze.act(RIGHT)  # move right\n",
        "qmaze.act(RIGHT)  # move right\n",
        "qmaze.act(UP)  # move up\n",
        "show(qmaze)"
      ],
      "metadata": {
        "colab": {
          "base_uri": "https://localhost:8080/",
          "height": 269
        },
        "id": "basomZIlFXMT",
        "outputId": "05fbb92b-b7ff-4a68-ec93-f454c1941078"
      },
      "execution_count": 8,
      "outputs": [
        {
          "output_type": "execute_result",
          "data": {
            "text/plain": [
              "<matplotlib.image.AxesImage at 0x7f5ed23bf390>"
            ]
          },
          "metadata": {},
          "execution_count": 8
        },
        {
          "output_type": "display_data",
          "data": {
            "text/plain": [
              "<Figure size 432x288 with 1 Axes>"
            ],
            "image/png": "[encoded data removed]"
          },
          "metadata": {
            "needs_background": "light"
          }
        }
      ]
    },
    {
      "cell_type": "code",
      "source": [
        "def play_game(model, qmaze, airport):\n",
        "    qmaze.reset(airport)\n",
        "    envstate = qmaze.observe()\n",
        "    while True:\n",
        "        prev_envstate = envstate\n",
        "        # get next action\n",
        "        q = model.predict(prev_envstate)\n",
        "        action = np.argmax(q[0])\n",
        "\n",
        "        # apply action, get rewards and new state\n",
        "        envstate, reward, game_status = qmaze.act(action)\n",
        "        if game_status == 'win':\n",
        "            return True\n",
        "        elif game_status == 'lose':\n",
        "            return False"
      ],
      "metadata": {
        "id": "BFdqyTikFbce"
      },
      "execution_count": 9,
      "outputs": []
    },
    {
      "cell_type": "code",
      "source": [
        "def completion_check(model, qmaze):\n",
        "    for cell in qmaze.free_cells:\n",
        "        if not qmaze.valid_actions(cell):\n",
        "            return False\n",
        "        if not play_game(model, qmaze, cell):\n",
        "            return False\n",
        "    return True"
      ],
      "metadata": {
        "id": "rDkEfwNTFdHm"
      },
      "execution_count": 10,
      "outputs": []
    },
    {
      "cell_type": "code",
      "source": [
        "class Experience(object):\n",
        "    def __init__(self, model, max_memory=100, discount=0.95):\n",
        "        self.model = model\n",
        "        self.max_memory = max_memory\n",
        "        self.discount = discount\n",
        "        self.memory = list()\n",
        "        self.num_actions = model.output_shape[-1]\n",
        "\n",
        "    def remember(self, episode):\n",
        "        # episode = [envstate, action, reward, envstate_next, game_over]\n",
        "        # memory[i] = episode\n",
        "        # envstate == flattened 1d maze cells info, including bot cell (see method: observe)\n",
        "        self.memory.append(episode)\n",
        "        if len(self.memory) > self.max_memory:\n",
        "            del self.memory[0]\n",
        "\n",
        "    def predict(self, envstate):\n",
        "        return self.model.predict(envstate)[0]\n",
        "\n",
        "    def get_data(self, data_size=10):\n",
        "        env_size = self.memory[0][0].shape[1]   # envstate 1d size (1st element of episode)\n",
        "        mem_size = len(self.memory)\n",
        "        data_size = min(mem_size, data_size)\n",
        "        inputs = np.zeros((data_size, env_size))\n",
        "        targets = np.zeros((data_size, self.num_actions))\n",
        "        for i, j in enumerate(np.random.choice(range(mem_size), data_size, replace=False)):\n",
        "            envstate, action, reward, envstate_next, game_over = self.memory[j]\n",
        "            inputs[i] = envstate\n",
        "            # There should be no target values for actions not taken.\n",
        "            targets[i] = self.predict(envstate)\n",
        "            # Q_sa = derived policy = max quality env/action = max_a' Q(s', a')\n",
        "            Q_sa = np.max(self.predict(envstate_next))\n",
        "            if game_over:\n",
        "                targets[i, action] = reward\n",
        "            else:\n",
        "                # reward + gamma * max_a' Q(s', a')\n",
        "                targets[i, action] = reward + self.discount * Q_sa\n",
        "        return inputs, targets"
      ],
      "metadata": {
        "id": "c5n4qAlTFf21"
      },
      "execution_count": 11,
      "outputs": []
    },
    {
      "cell_type": "code",
      "source": [
        "def qtrain(model, maze, **opt):\n",
        "    global epsilon\n",
        "    n_epoch = opt.get('n_epoch', 15000)\n",
        "    max_memory = opt.get('max_memory', 1000)\n",
        "    data_size = opt.get('data_size', 50)\n",
        "    weights_file = opt.get('weights_file', \"\")\n",
        "    name = opt.get('name', 'model')\n",
        "    start_time = datetime.datetime.now()\n",
        "\n",
        "    # If you want to continue training from a previous model,\n",
        "    # just supply the h5 file name to weights_file option\n",
        "    if weights_file:\n",
        "        print(\"loading weights from file: %s\" % (weights_file,))\n",
        "        model.load_weights(weights_file)\n",
        "\n",
        "    # Construct environment/game from numpy array: maze (see above)\n",
        "    qmaze = Qmaze(maze)\n",
        "\n",
        "    # Initialize experience replay object\n",
        "    experience = Experience(model, max_memory=max_memory)\n",
        "\n",
        "    win_history = []   # history of win/lose game\n",
        "    n_free_cells = len(qmaze.free_cells)\n",
        "    hsize = qmaze.maze.size//2   # history window size\n",
        "    win_rate = 0.0\n",
        "    imctr = 1\n",
        "\n",
        "    for epoch in range(n_epoch):\n",
        "        loss = 0.0\n",
        "        airport = random.choice(qmaze.free_cells)\n",
        "        qmaze.reset(airport)\n",
        "        game_over = False\n",
        "\n",
        "        # get initial envstate (1d flattened canvas)\n",
        "        envstate = qmaze.observe()\n",
        "\n",
        "        n_episodes = 0\n",
        "        while not game_over:\n",
        "            valid_actions = qmaze.valid_actions()\n",
        "            if not valid_actions: break\n",
        "            prev_envstate = envstate\n",
        "            # Get next action\n",
        "            if np.random.rand() < epsilon:\n",
        "                action = random.choice(valid_actions)\n",
        "            else:\n",
        "                action = np.argmax(experience.predict(prev_envstate))\n",
        "\n",
        "            # Apply action, get reward and new envstate\n",
        "            envstate, reward, game_status = qmaze.act(action)\n",
        "            if game_status == 'win':\n",
        "                win_history.append(1)\n",
        "                game_over = True\n",
        "            elif game_status == 'lose':\n",
        "                win_history.append(0)\n",
        "                game_over = True\n",
        "            else:\n",
        "                game_over = False\n",
        "\n",
        "            # Store episode (experience)\n",
        "            episode = [prev_envstate, action, reward, envstate, game_over]\n",
        "            experience.remember(episode)\n",
        "            n_episodes += 1\n",
        "\n",
        "            # Train neural network model\n",
        "            inputs, targets = experience.get_data(data_size=data_size)\n",
        "            h = model.fit(\n",
        "                inputs,\n",
        "                targets,\n",
        "                epochs=8,\n",
        "                batch_size=16,\n",
        "                verbose=0,\n",
        "            )\n",
        "            loss = model.evaluate(inputs, targets, verbose=0)\n",
        "\n",
        "        if len(win_history) > hsize:\n",
        "            win_rate = sum(win_history[-hsize:]) / hsize\n",
        "    \n",
        "        dt = datetime.datetime.now() - start_time\n",
        "        t = format_time(dt.total_seconds())\n",
        "        template = \"Epoch: {:03d}/{:d} | Loss: {:.4f} | Episodes: {:d} | Win count: {:d} | Win rate: {:.3f} | time: {}\"\n",
        "        print(template.format(epoch, n_epoch-1, loss, n_episodes, sum(win_history), win_rate, t))\n",
        "        # we simply check if training has exhausted all free cells and if in all\n",
        "        # cases the agent won\n",
        "        if win_rate > 0.9 : epsilon = 0.05\n",
        "        if sum(win_history[-hsize:]) == hsize and completion_check(model, qmaze):\n",
        "            print(\"Reached 100%% win rate at epoch: %d\" % (epoch,))\n",
        "            break\n",
        "\n",
        "    # Save trained model weights and architecture, this will be used by the visualization code\n",
        "    h5file = name + \".h5\"\n",
        "    json_file = name + \".json\"\n",
        "    model.save_weights(h5file, overwrite=True)\n",
        "    with open(json_file, \"w\") as outfile:\n",
        "        json.dump(model.to_json(), outfile)\n",
        "    end_time = datetime.datetime.now()\n",
        "    dt = datetime.datetime.now() - start_time\n",
        "    seconds = dt.total_seconds()\n",
        "    t = format_time(seconds)\n",
        "    print('files: %s, %s' % (h5file, json_file))\n",
        "    print(\"n_epoch: %d, max_mem: %d, data: %d, time: %s\" % (epoch, max_memory, data_size, t))\n",
        "    return seconds\n",
        "\n",
        "# This is a small utility for printing readable time strings:\n",
        "def format_time(seconds):\n",
        "    if seconds < 400:\n",
        "        s = float(seconds)\n",
        "        return \"%.1f seconds\" % (s,)\n",
        "    elif seconds < 4000:\n",
        "        m = seconds / 60.0\n",
        "        return \"%.2f minutes\" % (m,)\n",
        "    else:\n",
        "        h = seconds / 3600.0\n",
        "        return \"%.2f hours\" % (h,)"
      ],
      "metadata": {
        "id": "uComNlOAFr0d"
      },
      "execution_count": 12,
      "outputs": []
    },
    {
      "cell_type": "code",
      "source": [
        "def build_model(maze, lr=0.001):\n",
        "    model = Sequential()\n",
        "    model.add(Dense(maze.size, input_shape=(maze.size,)))\n",
        "    model.add(PReLU())\n",
        "    model.add(Dense(maze.size))\n",
        "    model.add(PReLU())\n",
        "    model.add(Dense(num_actions))\n",
        "    model.compile(optimizer='adam', loss='mse')\n",
        "    return model"
      ],
      "metadata": {
        "id": "0PfZvnauFuty"
      },
      "execution_count": 13,
      "outputs": []
    },
    {
      "cell_type": "code",
      "source": [
        "maze =  np.array([\n",
        "    [ 1.,  0.,  1.,  1.,  1.,  1.,  1.],\n",
        "    [ 1.,  1.,  1.,  0.,  0.,  1.,  0.],\n",
        "    [ 0.,  0.,  0.,  1.,  1.,  1.,  0.],\n",
        "    [ 1.,  1.,  1.,  1.,  0.,  0.,  1.],\n",
        "    [ 1.,  0.,  0.,  0.,  1.,  1.,  1.],\n",
        "    [ 1.,  0.,  1.,  1.,  1.,  1.,  1.],\n",
        "    [ 1.,  1.,  1.,  0.,  1.,  1.,  1.]\n",
        "])\n",
        "\n",
        "qmaze = Qmaze(maze)\n",
        "show(qmaze)"
      ],
      "metadata": {
        "colab": {
          "base_uri": "https://localhost:8080/",
          "height": 269
        },
        "id": "Np50liXKFxY6",
        "outputId": "5c4ac704-c7f6-4621-d4db-6e9435947839"
      },
      "execution_count": 14,
      "outputs": [
        {
          "output_type": "execute_result",
          "data": {
            "text/plain": [
              "<matplotlib.image.AxesImage at 0x7f5ed2347390>"
            ]
          },
          "metadata": {},
          "execution_count": 14
        },
        {
          "output_type": "display_data",
          "data": {
            "text/plain": [
              "<Figure size 432x288 with 1 Axes>"
            ],
            "image/png": "[encoded data removed]"
          },
          "metadata": {
            "needs_background": "light"
          }
        }
      ]
    },
    {
      "cell_type": "code",
      "source": [
        "model = build_model(maze)\n",
        "qtrain(model, maze, epochs=100, max_memory=8*maze.size, data_size=32)"
      ],
      "metadata": {
        "colab": {
          "base_uri": "https://localhost:8080/"
        },
        "id": "zm0sx-qYF3sn",
        "outputId": "c9aafb94-a571-43ec-bd67-980f99f5b985"
      },
      "execution_count": 16,
      "outputs": [
        {
          "output_type": "stream",
          "name": "stdout",
          "text": [
            "Epoch: 000/14999 | Loss: 0.0022 | Episodes: 114 | Win count: 0 | Win rate: 0.000 | time: 237.4 seconds\n",
            "Epoch: 001/14999 | Loss: 0.0182 | Episodes: 53 | Win count: 1 | Win rate: 0.000 | time: 364.0 seconds\n",
            "Epoch: 002/14999 | Loss: 0.0094 | Episodes: 104 | Win count: 1 | Win rate: 0.000 | time: 10.17 minutes\n",
            "Epoch: 003/14999 | Loss: 0.0033 | Episodes: 105 | Win count: 1 | Win rate: 0.000 | time: 14.33 minutes\n",
            "Epoch: 004/14999 | Loss: 0.0034 | Episodes: 25 | Win count: 2 | Win rate: 0.000 | time: 15.31 minutes\n",
            "Epoch: 005/14999 | Loss: 0.0033 | Episodes: 102 | Win count: 2 | Win rate: 0.000 | time: 19.33 minutes\n",
            "Epoch: 006/14999 | Loss: 0.0024 | Episodes: 9 | Win count: 3 | Win rate: 0.000 | time: 19.69 minutes\n",
            "Epoch: 007/14999 | Loss: 0.0083 | Episodes: 4 | Win count: 4 | Win rate: 0.000 | time: 19.84 minutes\n",
            "Epoch: 008/14999 | Loss: 0.0029 | Episodes: 3 | Win count: 5 | Win rate: 0.000 | time: 19.96 minutes\n",
            "Epoch: 009/14999 | Loss: 0.0089 | Episodes: 103 | Win count: 5 | Win rate: 0.000 | time: 24.00 minutes\n",
            "Epoch: 010/14999 | Loss: 0.0033 | Episodes: 11 | Win count: 6 | Win rate: 0.000 | time: 24.43 minutes\n",
            "Epoch: 011/14999 | Loss: 0.0173 | Episodes: 2 | Win count: 7 | Win rate: 0.000 | time: 24.51 minutes\n",
            "Epoch: 012/14999 | Loss: 0.0031 | Episodes: 3 | Win count: 8 | Win rate: 0.000 | time: 24.63 minutes\n",
            "Epoch: 013/14999 | Loss: 0.0034 | Episodes: 104 | Win count: 8 | Win rate: 0.000 | time: 28.70 minutes\n",
            "Epoch: 014/14999 | Loss: 0.0049 | Episodes: 103 | Win count: 8 | Win rate: 0.000 | time: 32.72 minutes\n",
            "Epoch: 015/14999 | Loss: 0.0031 | Episodes: 103 | Win count: 8 | Win rate: 0.000 | time: 36.73 minutes\n",
            "Epoch: 016/14999 | Loss: 0.0016 | Episodes: 104 | Win count: 8 | Win rate: 0.000 | time: 40.77 minutes\n",
            "Epoch: 017/14999 | Loss: 0.0018 | Episodes: 10 | Win count: 9 | Win rate: 0.000 | time: 41.16 minutes\n",
            "Epoch: 018/14999 | Loss: 0.0053 | Episodes: 110 | Win count: 9 | Win rate: 0.000 | time: 45.46 minutes\n",
            "Epoch: 019/14999 | Loss: 0.0756 | Episodes: 4 | Win count: 10 | Win rate: 0.000 | time: 45.61 minutes\n",
            "Epoch: 020/14999 | Loss: 0.0016 | Episodes: 104 | Win count: 10 | Win rate: 0.000 | time: 49.69 minutes\n",
            "Epoch: 021/14999 | Loss: 0.0756 | Episodes: 4 | Win count: 11 | Win rate: 0.000 | time: 49.84 minutes\n",
            "Epoch: 022/14999 | Loss: 0.0031 | Episodes: 5 | Win count: 12 | Win rate: 0.000 | time: 50.04 minutes\n",
            "Epoch: 023/14999 | Loss: 0.0149 | Episodes: 10 | Win count: 13 | Win rate: 0.000 | time: 50.43 minutes\n",
            "Epoch: 024/14999 | Loss: 0.0021 | Episodes: 76 | Win count: 14 | Win rate: 0.583 | time: 53.41 minutes\n",
            "Epoch: 025/14999 | Loss: 0.0330 | Episodes: 6 | Win count: 15 | Win rate: 0.583 | time: 53.64 minutes\n",
            "Epoch: 026/14999 | Loss: 0.0396 | Episodes: 3 | Win count: 16 | Win rate: 0.625 | time: 53.76 minutes\n",
            "Epoch: 027/14999 | Loss: 0.0030 | Episodes: 104 | Win count: 16 | Win rate: 0.625 | time: 57.87 minutes\n",
            "Epoch: 028/14999 | Loss: 0.0046 | Episodes: 52 | Win count: 17 | Win rate: 0.625 | time: 59.93 minutes\n",
            "Epoch: 029/14999 | Loss: 0.0014 | Episodes: 107 | Win count: 17 | Win rate: 0.625 | time: 64.21 minutes\n",
            "Epoch: 030/14999 | Loss: 0.0121 | Episodes: 116 | Win count: 18 | Win rate: 0.625 | time: 1.15 hours\n",
            "Epoch: 031/14999 | Loss: 0.0016 | Episodes: 24 | Win count: 19 | Win rate: 0.625 | time: 1.17 hours\n",
            "Epoch: 032/14999 | Loss: 0.0043 | Episodes: 4 | Win count: 20 | Win rate: 0.625 | time: 1.17 hours\n",
            "Epoch: 033/14999 | Loss: 0.0018 | Episodes: 3 | Win count: 21 | Win rate: 0.667 | time: 1.17 hours\n",
            "Epoch: 034/14999 | Loss: 0.0030 | Episodes: 7 | Win count: 22 | Win rate: 0.667 | time: 1.18 hours\n",
            "Epoch: 035/14999 | Loss: 0.0060 | Episodes: 28 | Win count: 23 | Win rate: 0.667 | time: 1.19 hours\n",
            "Epoch: 036/14999 | Loss: 0.0022 | Episodes: 15 | Win count: 24 | Win rate: 0.667 | time: 1.21 hours\n",
            "Epoch: 037/14999 | Loss: 0.0024 | Episodes: 80 | Win count: 25 | Win rate: 0.708 | time: 1.26 hours\n",
            "Epoch: 038/14999 | Loss: 0.0023 | Episodes: 10 | Win count: 26 | Win rate: 0.750 | time: 1.26 hours\n",
            "Epoch: 039/14999 | Loss: 0.0012 | Episodes: 5 | Win count: 27 | Win rate: 0.792 | time: 1.27 hours\n",
            "Epoch: 040/14999 | Loss: 0.0029 | Episodes: 106 | Win count: 28 | Win rate: 0.833 | time: 1.34 hours\n",
            "Epoch: 041/14999 | Loss: 0.0014 | Episodes: 2 | Win count: 29 | Win rate: 0.833 | time: 1.34 hours\n",
            "Epoch: 042/14999 | Loss: 0.0009 | Episodes: 14 | Win count: 30 | Win rate: 0.875 | time: 1.35 hours\n",
            "Epoch: 043/14999 | Loss: 0.0015 | Episodes: 21 | Win count: 31 | Win rate: 0.875 | time: 1.36 hours\n",
            "Epoch: 044/14999 | Loss: 0.0014 | Episodes: 17 | Win count: 32 | Win rate: 0.917 | time: 1.37 hours\n",
            "Epoch: 045/14999 | Loss: 0.0012 | Episodes: 6 | Win count: 33 | Win rate: 0.917 | time: 1.38 hours\n",
            "Epoch: 046/14999 | Loss: 0.0011 | Episodes: 21 | Win count: 34 | Win rate: 0.917 | time: 1.39 hours\n",
            "Epoch: 047/14999 | Loss: 0.0008 | Episodes: 5 | Win count: 35 | Win rate: 0.917 | time: 1.40 hours\n",
            "Epoch: 048/14999 | Loss: 0.0008 | Episodes: 15 | Win count: 36 | Win rate: 0.917 | time: 1.41 hours\n",
            "Epoch: 049/14999 | Loss: 0.0007 | Episodes: 22 | Win count: 37 | Win rate: 0.917 | time: 1.42 hours\n",
            "Epoch: 050/14999 | Loss: 0.0008 | Episodes: 4 | Win count: 38 | Win rate: 0.917 | time: 1.42 hours\n",
            "Epoch: 051/14999 | Loss: 0.0007 | Episodes: 8 | Win count: 39 | Win rate: 0.958 | time: 1.43 hours\n",
            "Epoch: 052/14999 | Loss: 0.0013 | Episodes: 1 | Win count: 40 | Win rate: 0.958 | time: 1.43 hours\n",
            "Epoch: 053/14999 | Loss: 0.0018 | Episodes: 17 | Win count: 41 | Win rate: 1.000 | time: 1.44 hours\n",
            "Reached 100% win rate at epoch: 53\n",
            "files: model.h5, model.json\n",
            "n_epoch: 53, max_mem: 392, data: 32, time: 1.44 hours\n"
          ]
        },
        {
          "output_type": "execute_result",
          "data": {
            "text/plain": [
              "5201.765889"
            ]
          },
          "metadata": {},
          "execution_count": 16
        }
      ]
    }
  ]
}